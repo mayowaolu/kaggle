{
 "cells": [
  {
   "cell_type": "markdown",
   "id": "da98a2ca",
   "metadata": {
    "papermill": {
     "duration": 0.014065,
     "end_time": "2022-02-01T03:43:21.303066",
     "exception": false,
     "start_time": "2022-02-01T03:43:21.289001",
     "status": "completed"
    },
    "tags": []
   },
   "source": [
    "**This notebook is an exercise in the [Python](https://www.kaggle.com/learn/python) course.  You can reference the tutorial at [this link](https://www.kaggle.com/colinmorris/strings-and-dictionaries).**\n",
    "\n",
    "---\n"
   ]
  },
  {
   "cell_type": "markdown",
   "id": "b34209f9",
   "metadata": {
    "papermill": {
     "duration": 0.013223,
     "end_time": "2022-02-01T03:43:21.331995",
     "exception": false,
     "start_time": "2022-02-01T03:43:21.318772",
     "status": "completed"
    },
    "tags": []
   },
   "source": [
    "You are almost done with the course. Nice job!\n",
    "\n",
    "We have a couple more interesting problems for you before you go. \n",
    "\n",
    "As always, run the setup code below before working on the questions."
   ]
  },
  {
   "cell_type": "code",
   "execution_count": 1,
   "id": "3f2e280f",
   "metadata": {
    "execution": {
     "iopub.execute_input": "2022-02-01T03:43:21.362178Z",
     "iopub.status.busy": "2022-02-01T03:43:21.361028Z",
     "iopub.status.idle": "2022-02-01T03:43:21.411082Z",
     "shell.execute_reply": "2022-02-01T03:43:21.411643Z",
     "shell.execute_reply.started": "2022-02-01T03:29:54.519573Z"
    },
    "papermill": {
     "duration": 0.066951,
     "end_time": "2022-02-01T03:43:21.411933",
     "exception": false,
     "start_time": "2022-02-01T03:43:21.344982",
     "status": "completed"
    },
    "tags": []
   },
   "outputs": [
    {
     "name": "stdout",
     "output_type": "stream",
     "text": [
      "Setup complete.\n"
     ]
    }
   ],
   "source": [
    "from learntools.core import binder; binder.bind(globals())\n",
    "from learntools.python.ex6 import *\n",
    "print('Setup complete.')"
   ]
  },
  {
   "cell_type": "markdown",
   "id": "ab962e59",
   "metadata": {
    "papermill": {
     "duration": 0.012999,
     "end_time": "2022-02-01T03:43:21.439622",
     "exception": false,
     "start_time": "2022-02-01T03:43:21.426623",
     "status": "completed"
    },
    "tags": []
   },
   "source": [
    "Let's start with a string lightning round to warm up. What are the lengths of the strings below?\n",
    "\n",
    "For each of the five strings below, predict what `len()` would return when passed that string. Use the variable `length` to record your answer, then run the cell to check whether you were right.  \n",
    "\n",
    "# 0a."
   ]
  },
  {
   "cell_type": "code",
   "execution_count": 2,
   "id": "1499d354",
   "metadata": {
    "execution": {
     "iopub.execute_input": "2022-02-01T03:43:21.469534Z",
     "iopub.status.busy": "2022-02-01T03:43:21.468877Z",
     "iopub.status.idle": "2022-02-01T03:43:21.476674Z",
     "shell.execute_reply": "2022-02-01T03:43:21.477133Z",
     "shell.execute_reply.started": "2022-01-31T20:40:30.362859Z"
    },
    "papermill": {
     "duration": 0.024455,
     "end_time": "2022-02-01T03:43:21.477299",
     "exception": false,
     "start_time": "2022-02-01T03:43:21.452844",
     "status": "completed"
    },
    "tags": []
   },
   "outputs": [
    {
     "data": {
      "application/javascript": [
       "parent.postMessage({\"jupyterEvent\": \"custom.exercise_interaction\", \"data\": {\"outcomeType\": 1, \"valueTowardsCompletion\": 0.3333333333333333, \"interactionType\": 1, \"questionType\": 1, \"questionId\": \"0.1_ZA\", \"learnToolsVersion\": \"0.3.4\", \"failureMessage\": \"\", \"exceptionClass\": \"\", \"trace\": \"\"}}, \"*\")"
      ],
      "text/plain": [
       "<IPython.core.display.Javascript object>"
      ]
     },
     "metadata": {},
     "output_type": "display_data"
    },
    {
     "data": {
      "text/markdown": [
       "<span style=\"color:#33cc33\">Correct:</span> \n",
       "\n",
       "The empty string has length zero. Note that the empty string is also the only string that Python considers as False when converting to boolean."
      ],
      "text/plain": [
       "Correct: \n",
       "\n",
       "The empty string has length zero. Note that the empty string is also the only string that Python considers as False when converting to boolean."
      ]
     },
     "metadata": {},
     "output_type": "display_data"
    }
   ],
   "source": [
    "a = \"\"\n",
    "length = 0\n",
    "q0.a.check()"
   ]
  },
  {
   "cell_type": "markdown",
   "id": "51dad358",
   "metadata": {
    "papermill": {
     "duration": 0.013897,
     "end_time": "2022-02-01T03:43:21.505432",
     "exception": false,
     "start_time": "2022-02-01T03:43:21.491535",
     "status": "completed"
    },
    "tags": []
   },
   "source": [
    "# 0b."
   ]
  },
  {
   "cell_type": "code",
   "execution_count": 3,
   "id": "f660eb11",
   "metadata": {
    "execution": {
     "iopub.execute_input": "2022-02-01T03:43:21.536740Z",
     "iopub.status.busy": "2022-02-01T03:43:21.536083Z",
     "iopub.status.idle": "2022-02-01T03:43:21.542221Z",
     "shell.execute_reply": "2022-02-01T03:43:21.542807Z",
     "shell.execute_reply.started": "2022-01-31T20:40:49.62333Z"
    },
    "papermill": {
     "duration": 0.023469,
     "end_time": "2022-02-01T03:43:21.542985",
     "exception": false,
     "start_time": "2022-02-01T03:43:21.519516",
     "status": "completed"
    },
    "tags": []
   },
   "outputs": [
    {
     "data": {
      "application/javascript": [
       "parent.postMessage({\"jupyterEvent\": \"custom.exercise_interaction\", \"data\": {\"outcomeType\": 1, \"valueTowardsCompletion\": 0.3333333333333333, \"interactionType\": 1, \"questionType\": 1, \"questionId\": \"0.2_ZB\", \"learnToolsVersion\": \"0.3.4\", \"failureMessage\": \"\", \"exceptionClass\": \"\", \"trace\": \"\"}}, \"*\")"
      ],
      "text/plain": [
       "<IPython.core.display.Javascript object>"
      ]
     },
     "metadata": {},
     "output_type": "display_data"
    },
    {
     "data": {
      "text/markdown": [
       "<span style=\"color:#33cc33\">Correct:</span> \n",
       "\n",
       "Keep in mind Python includes spaces (and punctuation) when counting string length."
      ],
      "text/plain": [
       "Correct: \n",
       "\n",
       "Keep in mind Python includes spaces (and punctuation) when counting string length."
      ]
     },
     "metadata": {},
     "output_type": "display_data"
    }
   ],
   "source": [
    "b = \"it's ok\"\n",
    "length = 7\n",
    "q0.b.check()"
   ]
  },
  {
   "cell_type": "markdown",
   "id": "e62be62c",
   "metadata": {
    "papermill": {
     "duration": 0.014952,
     "end_time": "2022-02-01T03:43:21.573259",
     "exception": false,
     "start_time": "2022-02-01T03:43:21.558307",
     "status": "completed"
    },
    "tags": []
   },
   "source": [
    "# 0c."
   ]
  },
  {
   "cell_type": "code",
   "execution_count": 4,
   "id": "08744ec5",
   "metadata": {
    "execution": {
     "iopub.execute_input": "2022-02-01T03:43:21.607564Z",
     "iopub.status.busy": "2022-02-01T03:43:21.606933Z",
     "iopub.status.idle": "2022-02-01T03:43:21.613250Z",
     "shell.execute_reply": "2022-02-01T03:43:21.613829Z",
     "shell.execute_reply.started": "2022-01-31T20:41:02.916225Z"
    },
    "papermill": {
     "duration": 0.02469,
     "end_time": "2022-02-01T03:43:21.614007",
     "exception": false,
     "start_time": "2022-02-01T03:43:21.589317",
     "status": "completed"
    },
    "tags": []
   },
   "outputs": [
    {
     "data": {
      "application/javascript": [
       "parent.postMessage({\"jupyterEvent\": \"custom.exercise_interaction\", \"data\": {\"outcomeType\": 1, \"valueTowardsCompletion\": 0.3333333333333333, \"interactionType\": 1, \"questionType\": 1, \"questionId\": \"0.3_ZC\", \"learnToolsVersion\": \"0.3.4\", \"failureMessage\": \"\", \"exceptionClass\": \"\", \"trace\": \"\"}}, \"*\")"
      ],
      "text/plain": [
       "<IPython.core.display.Javascript object>"
      ]
     },
     "metadata": {},
     "output_type": "display_data"
    },
    {
     "data": {
      "text/markdown": [
       "<span style=\"color:#33cc33\">Correct:</span> \n",
       "\n",
       "Even though we use different syntax to create it, the string `c` is identical to `b`. In particular, note that the backslash is not part of the string, so it doesn't contribute to its length."
      ],
      "text/plain": [
       "Correct: \n",
       "\n",
       "Even though we use different syntax to create it, the string `c` is identical to `b`. In particular, note that the backslash is not part of the string, so it doesn't contribute to its length."
      ]
     },
     "metadata": {},
     "output_type": "display_data"
    }
   ],
   "source": [
    "c = 'it\\'s ok'\n",
    "length = 7\n",
    "q0.c.check()"
   ]
  },
  {
   "cell_type": "markdown",
   "id": "2a4c2382",
   "metadata": {
    "papermill": {
     "duration": 0.01524,
     "end_time": "2022-02-01T03:43:21.645153",
     "exception": false,
     "start_time": "2022-02-01T03:43:21.629913",
     "status": "completed"
    },
    "tags": []
   },
   "source": [
    "# 0d."
   ]
  },
  {
   "cell_type": "code",
   "execution_count": 5,
   "id": "108f61c0",
   "metadata": {
    "execution": {
     "iopub.execute_input": "2022-02-01T03:43:21.679507Z",
     "iopub.status.busy": "2022-02-01T03:43:21.678866Z",
     "iopub.status.idle": "2022-02-01T03:43:21.685340Z",
     "shell.execute_reply": "2022-02-01T03:43:21.685822Z",
     "shell.execute_reply.started": "2022-01-31T20:41:15.046397Z"
    },
    "papermill": {
     "duration": 0.025212,
     "end_time": "2022-02-01T03:43:21.685995",
     "exception": false,
     "start_time": "2022-02-01T03:43:21.660783",
     "status": "completed"
    },
    "tags": []
   },
   "outputs": [
    {
     "data": {
      "application/javascript": [
       "parent.postMessage({\"jupyterEvent\": \"custom.exercise_interaction\", \"data\": {\"outcomeType\": 1, \"valueTowardsCompletion\": 0.3333333333333333, \"interactionType\": 1, \"questionType\": 1, \"questionId\": \"0.4_ZD\", \"learnToolsVersion\": \"0.3.4\", \"failureMessage\": \"\", \"exceptionClass\": \"\", \"trace\": \"\"}}, \"*\")"
      ],
      "text/plain": [
       "<IPython.core.display.Javascript object>"
      ]
     },
     "metadata": {},
     "output_type": "display_data"
    },
    {
     "data": {
      "text/markdown": [
       "<span style=\"color:#33cc33\">Correct:</span> \n",
       "\n",
       "The fact that this string was created using triple-quote syntax doesn't make any difference in terms of its content or length. This string is exactly the same as `'hey'`."
      ],
      "text/plain": [
       "Correct: \n",
       "\n",
       "The fact that this string was created using triple-quote syntax doesn't make any difference in terms of its content or length. This string is exactly the same as `'hey'`."
      ]
     },
     "metadata": {},
     "output_type": "display_data"
    }
   ],
   "source": [
    "d = \"\"\"hey\"\"\"\n",
    "length = 3\n",
    "q0.d.check()"
   ]
  },
  {
   "cell_type": "markdown",
   "id": "be938daa",
   "metadata": {
    "papermill": {
     "duration": 0.015884,
     "end_time": "2022-02-01T03:43:21.718302",
     "exception": false,
     "start_time": "2022-02-01T03:43:21.702418",
     "status": "completed"
    },
    "tags": []
   },
   "source": [
    "# 0e."
   ]
  },
  {
   "cell_type": "code",
   "execution_count": 6,
   "id": "8fba7500",
   "metadata": {
    "execution": {
     "iopub.execute_input": "2022-02-01T03:43:21.757169Z",
     "iopub.status.busy": "2022-02-01T03:43:21.756251Z",
     "iopub.status.idle": "2022-02-01T03:43:21.760144Z",
     "shell.execute_reply": "2022-02-01T03:43:21.760632Z",
     "shell.execute_reply.started": "2022-01-31T20:41:41.022921Z"
    },
    "papermill": {
     "duration": 0.025538,
     "end_time": "2022-02-01T03:43:21.760808",
     "exception": false,
     "start_time": "2022-02-01T03:43:21.735270",
     "status": "completed"
    },
    "tags": []
   },
   "outputs": [
    {
     "data": {
      "application/javascript": [
       "parent.postMessage({\"jupyterEvent\": \"custom.exercise_interaction\", \"data\": {\"outcomeType\": 1, \"valueTowardsCompletion\": 0.3333333333333333, \"interactionType\": 1, \"questionType\": 1, \"questionId\": \"0.5_ZE\", \"learnToolsVersion\": \"0.3.4\", \"failureMessage\": \"\", \"exceptionClass\": \"\", \"trace\": \"\"}}, \"*\")"
      ],
      "text/plain": [
       "<IPython.core.display.Javascript object>"
      ]
     },
     "metadata": {},
     "output_type": "display_data"
    },
    {
     "data": {
      "text/markdown": [
       "<span style=\"color:#33cc33\">Correct:</span> \n",
       "\n",
       "The newline character is just a single character! (Even though we represent it to Python using a combination of two characters.)"
      ],
      "text/plain": [
       "Correct: \n",
       "\n",
       "The newline character is just a single character! (Even though we represent it to Python using a combination of two characters.)"
      ]
     },
     "metadata": {},
     "output_type": "display_data"
    }
   ],
   "source": [
    "e = '\\n'\n",
    "length = 1\n",
    "q0.e.check()"
   ]
  },
  {
   "cell_type": "markdown",
   "id": "1f10fbd8",
   "metadata": {
    "papermill": {
     "duration": 0.016816,
     "end_time": "2022-02-01T03:43:21.794618",
     "exception": false,
     "start_time": "2022-02-01T03:43:21.777802",
     "status": "completed"
    },
    "tags": []
   },
   "source": [
    "# 1.\n",
    "\n",
    "There is a saying that \"Data scientists spend 80% of their time cleaning data, and 20% of their time complaining about cleaning data.\" Let's see if you can write a function to help clean US zip code data. Given a string, it should return whether or not that string represents a valid zip code. For our purposes, a valid zip code is any string consisting of exactly 5 digits.\n",
    "\n",
    "HINT: `str` has a method that will be useful here. Use `help(str)` to review a list of string methods."
   ]
  },
  {
   "cell_type": "code",
   "execution_count": 7,
   "id": "e240b2aa",
   "metadata": {
    "execution": {
     "iopub.execute_input": "2022-02-01T03:43:21.832411Z",
     "iopub.status.busy": "2022-02-01T03:43:21.831749Z",
     "iopub.status.idle": "2022-02-01T03:43:21.838033Z",
     "shell.execute_reply": "2022-02-01T03:43:21.838505Z",
     "shell.execute_reply.started": "2022-01-31T21:43:07.289339Z"
    },
    "papermill": {
     "duration": 0.026921,
     "end_time": "2022-02-01T03:43:21.838694",
     "exception": false,
     "start_time": "2022-02-01T03:43:21.811773",
     "status": "completed"
    },
    "tags": []
   },
   "outputs": [
    {
     "data": {
      "application/javascript": [
       "parent.postMessage({\"jupyterEvent\": \"custom.exercise_interaction\", \"data\": {\"outcomeType\": 1, \"valueTowardsCompletion\": 0.3333333333333333, \"interactionType\": 1, \"questionType\": 2, \"questionId\": \"1_ZipValidator\", \"learnToolsVersion\": \"0.3.4\", \"failureMessage\": \"\", \"exceptionClass\": \"\", \"trace\": \"\"}}, \"*\")"
      ],
      "text/plain": [
       "<IPython.core.display.Javascript object>"
      ]
     },
     "metadata": {},
     "output_type": "display_data"
    },
    {
     "data": {
      "text/markdown": [
       "<span style=\"color:#33cc33\">Correct</span>"
      ],
      "text/plain": [
       "Correct"
      ]
     },
     "metadata": {},
     "output_type": "display_data"
    }
   ],
   "source": [
    "def is_valid_zip(zip_code):\n",
    "    \"\"\"Returns whether the input string is a valid (5 digit) zip code\n",
    "    \"\"\"\n",
    "    if len(zip_code) == 5:\n",
    "        return zip_code.isdigit()\n",
    "    else:\n",
    "        return False\n",
    "    pass\n",
    "\n",
    "# Check your answer\n",
    "q1.check()"
   ]
  },
  {
   "cell_type": "code",
   "execution_count": 8,
   "id": "2bee4148",
   "metadata": {
    "execution": {
     "iopub.execute_input": "2022-02-01T03:43:21.878058Z",
     "iopub.status.busy": "2022-02-01T03:43:21.877371Z",
     "iopub.status.idle": "2022-02-01T03:43:21.885770Z",
     "shell.execute_reply": "2022-02-01T03:43:21.885268Z",
     "shell.execute_reply.started": "2022-01-31T21:43:27.928441Z"
    },
    "papermill": {
     "duration": 0.029064,
     "end_time": "2022-02-01T03:43:21.885910",
     "exception": false,
     "start_time": "2022-02-01T03:43:21.856846",
     "status": "completed"
    },
    "tags": []
   },
   "outputs": [
    {
     "data": {
      "application/javascript": [
       "parent.postMessage({\"jupyterEvent\": \"custom.exercise_interaction\", \"data\": {\"interactionType\": 2, \"questionType\": 2, \"questionId\": \"1_ZipValidator\", \"learnToolsVersion\": \"0.3.4\", \"valueTowardsCompletion\": 0.0, \"failureMessage\": \"\", \"exceptionClass\": \"\", \"trace\": \"\", \"outcomeType\": 4}}, \"*\")"
      ],
      "text/plain": [
       "<IPython.core.display.Javascript object>"
      ]
     },
     "metadata": {},
     "output_type": "display_data"
    },
    {
     "data": {
      "text/markdown": [
       "<span style=\"color:#3366cc\">Hint:</span> Try looking up `help(str.isdigit)`"
      ],
      "text/plain": [
       "Hint: Try looking up `help(str.isdigit)`"
      ]
     },
     "metadata": {},
     "output_type": "display_data"
    },
    {
     "data": {
      "application/javascript": [
       "parent.postMessage({\"jupyterEvent\": \"custom.exercise_interaction\", \"data\": {\"interactionType\": 3, \"questionType\": 2, \"questionId\": \"1_ZipValidator\", \"learnToolsVersion\": \"0.3.4\", \"valueTowardsCompletion\": 0.0, \"failureMessage\": \"\", \"exceptionClass\": \"\", \"trace\": \"\", \"outcomeType\": 4}}, \"*\")"
      ],
      "text/plain": [
       "<IPython.core.display.Javascript object>"
      ]
     },
     "metadata": {},
     "output_type": "display_data"
    },
    {
     "data": {
      "text/markdown": [
       "<span style=\"color:#33cc99\">Solution:</span> \n",
       "```python\n",
       "def is_valid_zip(zip_code):\n",
       "    return len(zip_code) == 5 and zip_code.isdigit()\n",
       "```"
      ],
      "text/plain": [
       "Solution: \n",
       "```python\n",
       "def is_valid_zip(zip_code):\n",
       "    return len(zip_code) == 5 and zip_code.isdigit()\n",
       "```"
      ]
     },
     "metadata": {},
     "output_type": "display_data"
    }
   ],
   "source": [
    "q1.hint()\n",
    "q1.solution()"
   ]
  },
  {
   "cell_type": "markdown",
   "id": "0bd5784f",
   "metadata": {
    "papermill": {
     "duration": 0.019644,
     "end_time": "2022-02-01T03:43:21.926561",
     "exception": false,
     "start_time": "2022-02-01T03:43:21.906917",
     "status": "completed"
    },
    "tags": []
   },
   "source": [
    "# 2.\n",
    "\n",
    "A researcher has gathered thousands of news articles. But she wants to focus her attention on articles including a specific word. Complete the function below to help her filter her list of articles.\n",
    "\n",
    "Your function should meet the following criteria:\n",
    "\n",
    "- Do not include documents where the keyword string shows up only as a part of a larger word. For example, if she were looking for the keyword “closed”, you would not include the string “enclosed.” \n",
    "- She does not want you to distinguish upper case from lower case letters. So the phrase “Closed the case.” would be included when the keyword is “closed”\n",
    "- Do not let periods or commas affect what is matched. “It is closed.” would be included when the keyword is “closed”. But you can assume there are no other types of punctuation."
   ]
  },
  {
   "cell_type": "code",
   "execution_count": 9,
   "id": "dc6dbfc3",
   "metadata": {
    "execution": {
     "iopub.execute_input": "2022-02-01T03:43:21.968502Z",
     "iopub.status.busy": "2022-02-01T03:43:21.967891Z",
     "iopub.status.idle": "2022-02-01T03:43:21.973072Z",
     "shell.execute_reply": "2022-02-01T03:43:21.973591Z",
     "shell.execute_reply.started": "2022-02-01T02:07:53.978356Z"
    },
    "papermill": {
     "duration": 0.027766,
     "end_time": "2022-02-01T03:43:21.973764",
     "exception": false,
     "start_time": "2022-02-01T03:43:21.945998",
     "status": "completed"
    },
    "tags": []
   },
   "outputs": [
    {
     "name": "stdout",
     "output_type": "stream",
     "text": [
      "ok, i am now IN the house.,\n",
      "ok, i am now in the house.,\n",
      "ok, i am now in the house\n",
      "['ok,', 'i', 'am', 'now', 'in', 'the', 'house']\n"
     ]
    }
   ],
   "source": [
    "x = (\"ok, i am now IN the house.,\")\n",
    "\n",
    "y = x.casefold()\n",
    "z = y.strip('.,')\n",
    "#j = z.strip(',')\n",
    "\n",
    "#k = z.replace(\",\",\"\")\n",
    "final = z.split()\n",
    "\n",
    "print(x, y, z, final, sep=\"\\n\")"
   ]
  },
  {
   "cell_type": "code",
   "execution_count": 10,
   "id": "3ed41bea",
   "metadata": {
    "execution": {
     "iopub.execute_input": "2022-02-01T03:43:22.016264Z",
     "iopub.status.busy": "2022-02-01T03:43:22.015639Z",
     "iopub.status.idle": "2022-02-01T03:43:22.023898Z",
     "shell.execute_reply": "2022-02-01T03:43:22.024453Z",
     "shell.execute_reply.started": "2022-02-01T03:39:38.364318Z"
    },
    "papermill": {
     "duration": 0.031123,
     "end_time": "2022-02-01T03:43:22.024618",
     "exception": false,
     "start_time": "2022-02-01T03:43:21.993495",
     "status": "completed"
    },
    "tags": []
   },
   "outputs": [
    {
     "data": {
      "application/javascript": [
       "parent.postMessage({\"jupyterEvent\": \"custom.exercise_interaction\", \"data\": {\"outcomeType\": 1, \"valueTowardsCompletion\": 0.3333333333333333, \"interactionType\": 1, \"questionType\": 2, \"questionId\": \"2_WordSearch\", \"learnToolsVersion\": \"0.3.4\", \"failureMessage\": \"\", \"exceptionClass\": \"\", \"trace\": \"\"}}, \"*\")"
      ],
      "text/plain": [
       "<IPython.core.display.Javascript object>"
      ]
     },
     "metadata": {},
     "output_type": "display_data"
    },
    {
     "data": {
      "text/markdown": [
       "<span style=\"color:#33cc33\">Correct</span>"
      ],
      "text/plain": [
       "Correct"
      ]
     },
     "metadata": {},
     "output_type": "display_data"
    }
   ],
   "source": [
    "def word_search(doc_list, keyword):\n",
    "    \"\"\"\n",
    "    Takes a list of documents (each document is a string) and a keyword. \n",
    "    Returns list of the index values into the original list for all documents \n",
    "    containing the keyword.\n",
    "\n",
    "    Example:\n",
    "    doc_list = [\"The Learn Python Challenge Casino.\", \"They bought a car\", \"Casinoville\"]\n",
    "    >>> word_search(doc_list, 'casino')\n",
    "    >>> [0]\n",
    "    \"\"\"\n",
    "    keyword_list = []\n",
    "   #  doc_list.casefold()\n",
    "    for doc in doc_list:\n",
    "        doc_nodots = doc.strip('.')\n",
    "        doc_nocomma = doc_nodots.replace(\".\",\"\")\n",
    "        doc_nocommax = doc_nocomma.replace(\",\",\"\")\n",
    "        doc_comparison = doc_nocommax.casefold()\n",
    "        final_doc = doc_comparison.split()\n",
    "        #if keyword in final_doc:\n",
    "            #keyword_list.append(doc_list.index(doc))\n",
    "        \n",
    "        #for doc_split in final_doc:\n",
    "          #  if doc_split == keyword:\n",
    "           #     keyword_list.append(doc_list.index(doc))\n",
    "                \n",
    "        \n",
    "        keyword_list.append(doc_list.index(doc)) if keyword in final_doc else \"\"\n",
    "    \n",
    "    return keyword_list\n",
    "        \n",
    "    \n",
    "    \n",
    "    pass\n",
    "\n",
    "# Check your answer\n",
    "q2.check()"
   ]
  },
  {
   "cell_type": "code",
   "execution_count": 11,
   "id": "324439f9",
   "metadata": {
    "execution": {
     "iopub.execute_input": "2022-02-01T03:43:22.068347Z",
     "iopub.status.busy": "2022-02-01T03:43:22.067725Z",
     "iopub.status.idle": "2022-02-01T03:43:22.076897Z",
     "shell.execute_reply": "2022-02-01T03:43:22.077302Z",
     "shell.execute_reply.started": "2022-02-01T03:41:29.819368Z"
    },
    "papermill": {
     "duration": 0.032606,
     "end_time": "2022-02-01T03:43:22.077492",
     "exception": false,
     "start_time": "2022-02-01T03:43:22.044886",
     "status": "completed"
    },
    "tags": []
   },
   "outputs": [
    {
     "data": {
      "application/javascript": [
       "parent.postMessage({\"jupyterEvent\": \"custom.exercise_interaction\", \"data\": {\"interactionType\": 2, \"questionType\": 2, \"questionId\": \"2_WordSearch\", \"learnToolsVersion\": \"0.3.4\", \"valueTowardsCompletion\": 0.0, \"failureMessage\": \"\", \"exceptionClass\": \"\", \"trace\": \"\", \"outcomeType\": 4}}, \"*\")"
      ],
      "text/plain": [
       "<IPython.core.display.Javascript object>"
      ]
     },
     "metadata": {},
     "output_type": "display_data"
    },
    {
     "data": {
      "text/markdown": [
       "<span style=\"color:#3366cc\">Hint:</span> Some methods that may be useful here: `str.split()`, `str.strip()`, `str.lower()`."
      ],
      "text/plain": [
       "Hint: Some methods that may be useful here: `str.split()`, `str.strip()`, `str.lower()`."
      ]
     },
     "metadata": {},
     "output_type": "display_data"
    },
    {
     "data": {
      "application/javascript": [
       "parent.postMessage({\"jupyterEvent\": \"custom.exercise_interaction\", \"data\": {\"interactionType\": 3, \"questionType\": 2, \"questionId\": \"2_WordSearch\", \"learnToolsVersion\": \"0.3.4\", \"valueTowardsCompletion\": 0.0, \"failureMessage\": \"\", \"exceptionClass\": \"\", \"trace\": \"\", \"outcomeType\": 4}}, \"*\")"
      ],
      "text/plain": [
       "<IPython.core.display.Javascript object>"
      ]
     },
     "metadata": {},
     "output_type": "display_data"
    },
    {
     "data": {
      "text/markdown": [
       "<span style=\"color:#33cc99\">Solution:</span> \n",
       "```python\n",
       "def word_search(doc_list, keyword):\n",
       "    # list to hold the indices of matching documents\n",
       "    indices = [] \n",
       "    # Iterate through the indices (i) and elements (doc) of documents\n",
       "    for i, doc in enumerate(doc_list):\n",
       "        # Split the string doc into a list of words (according to whitespace)\n",
       "        tokens = doc.split()\n",
       "        # Make a transformed list where we 'normalize' each word to facilitate matching.\n",
       "        # Periods and commas are removed from the end of each word, and it's set to all lowercase.\n",
       "        normalized = [token.rstrip('.,').lower() for token in tokens]\n",
       "        # Is there a match? If so, update the list of matching indices.\n",
       "        if keyword.lower() in normalized:\n",
       "            indices.append(i)\n",
       "    return indices\n",
       "```"
      ],
      "text/plain": [
       "Solution: \n",
       "```python\n",
       "def word_search(doc_list, keyword):\n",
       "    # list to hold the indices of matching documents\n",
       "    indices = [] \n",
       "    # Iterate through the indices (i) and elements (doc) of documents\n",
       "    for i, doc in enumerate(doc_list):\n",
       "        # Split the string doc into a list of words (according to whitespace)\n",
       "        tokens = doc.split()\n",
       "        # Make a transformed list where we 'normalize' each word to facilitate matching.\n",
       "        # Periods and commas are removed from the end of each word, and it's set to all lowercase.\n",
       "        normalized = [token.rstrip('.,').lower() for token in tokens]\n",
       "        # Is there a match? If so, update the list of matching indices.\n",
       "        if keyword.lower() in normalized:\n",
       "            indices.append(i)\n",
       "    return indices\n",
       "```"
      ]
     },
     "metadata": {},
     "output_type": "display_data"
    }
   ],
   "source": [
    "q2.hint()\n",
    "q2.solution()"
   ]
  },
  {
   "cell_type": "markdown",
   "id": "ded3e5a8",
   "metadata": {
    "papermill": {
     "duration": 0.021805,
     "end_time": "2022-02-01T03:43:22.121957",
     "exception": false,
     "start_time": "2022-02-01T03:43:22.100152",
     "status": "completed"
    },
    "tags": []
   },
   "source": [
    "# 3.\n",
    "\n",
    "Now the researcher wants to supply multiple keywords to search for. Complete the function below to help her.\n",
    "\n",
    "(You're encouraged to use the `word_search` function you just wrote when implementing this function. Reusing code in this way makes your programs more robust and readable - and it saves typing!)"
   ]
  },
  {
   "cell_type": "code",
   "execution_count": 12,
   "id": "f976654b",
   "metadata": {
    "execution": {
     "iopub.execute_input": "2022-02-01T03:43:22.169522Z",
     "iopub.status.busy": "2022-02-01T03:43:22.168853Z",
     "iopub.status.idle": "2022-02-01T03:43:22.177281Z",
     "shell.execute_reply": "2022-02-01T03:43:22.176777Z",
     "shell.execute_reply.started": "2022-02-01T03:39:45.269428Z"
    },
    "papermill": {
     "duration": 0.033423,
     "end_time": "2022-02-01T03:43:22.177444",
     "exception": false,
     "start_time": "2022-02-01T03:43:22.144021",
     "status": "completed"
    },
    "tags": []
   },
   "outputs": [
    {
     "data": {
      "application/javascript": [
       "parent.postMessage({\"jupyterEvent\": \"custom.exercise_interaction\", \"data\": {\"outcomeType\": 1, \"valueTowardsCompletion\": 0.3333333333333333, \"interactionType\": 1, \"questionType\": 2, \"questionId\": \"3_MultiWordSearch\", \"learnToolsVersion\": \"0.3.4\", \"failureMessage\": \"\", \"exceptionClass\": \"\", \"trace\": \"\"}}, \"*\")"
      ],
      "text/plain": [
       "<IPython.core.display.Javascript object>"
      ]
     },
     "metadata": {},
     "output_type": "display_data"
    },
    {
     "data": {
      "text/markdown": [
       "<span style=\"color:#33cc33\">Correct</span>"
      ],
      "text/plain": [
       "Correct"
      ]
     },
     "metadata": {},
     "output_type": "display_data"
    }
   ],
   "source": [
    "def multi_word_search(doc_list, keywords):\n",
    "    \"\"\"\n",
    "    Takes list of documents (each document is a string) and a list of keywords.  \n",
    "    Returns a dictionary where each key is a keyword, and the value is a list of indices\n",
    "    (from doc_list) of the documents containing that keyword\n",
    "\n",
    "    >>> doc_list = [\"The Learn Python Challenge Casino.\", \"They bought a car and a casino\", \"Casinoville\"]\n",
    "    >>> keywords = ['casino', 'they']\n",
    "    >>> multi_word_search(doc_list, keywords)\n",
    "    {'casino': [0, 1], 'they': [1]}\n",
    "    \"\"\"\n",
    "    d = {}\n",
    "    for keyword in keywords:        \n",
    "        d.update({keyword:word_search(doc_list, keyword)})\n",
    "    \n",
    "    return d\n",
    "    pass\n",
    "\n",
    "# Check your answer\n",
    "q3.check()"
   ]
  },
  {
   "cell_type": "code",
   "execution_count": 13,
   "id": "9cef0cc5",
   "metadata": {
    "execution": {
     "iopub.execute_input": "2022-02-01T03:43:22.230938Z",
     "iopub.status.busy": "2022-02-01T03:43:22.229790Z",
     "iopub.status.idle": "2022-02-01T03:43:22.239020Z",
     "shell.execute_reply": "2022-02-01T03:43:22.239637Z",
     "shell.execute_reply.started": "2022-02-01T03:39:58.678468Z"
    },
    "papermill": {
     "duration": 0.039113,
     "end_time": "2022-02-01T03:43:22.239848",
     "exception": false,
     "start_time": "2022-02-01T03:43:22.200735",
     "status": "completed"
    },
    "tags": []
   },
   "outputs": [
    {
     "data": {
      "application/javascript": [
       "parent.postMessage({\"jupyterEvent\": \"custom.exercise_interaction\", \"data\": {\"interactionType\": 3, \"questionType\": 2, \"questionId\": \"3_MultiWordSearch\", \"learnToolsVersion\": \"0.3.4\", \"valueTowardsCompletion\": 0.0, \"failureMessage\": \"\", \"exceptionClass\": \"\", \"trace\": \"\", \"outcomeType\": 4}}, \"*\")"
      ],
      "text/plain": [
       "<IPython.core.display.Javascript object>"
      ]
     },
     "metadata": {},
     "output_type": "display_data"
    },
    {
     "data": {
      "text/markdown": [
       "<span style=\"color:#33cc99\">Solution:</span> \n",
       "```python\n",
       "def multi_word_search(documents, keywords):\n",
       "    keyword_to_indices = {}\n",
       "    for keyword in keywords:\n",
       "        keyword_to_indices[keyword] = word_search(documents, keyword)\n",
       "    return keyword_to_indices\n",
       "```"
      ],
      "text/plain": [
       "Solution: \n",
       "```python\n",
       "def multi_word_search(documents, keywords):\n",
       "    keyword_to_indices = {}\n",
       "    for keyword in keywords:\n",
       "        keyword_to_indices[keyword] = word_search(documents, keyword)\n",
       "    return keyword_to_indices\n",
       "```"
      ]
     },
     "metadata": {},
     "output_type": "display_data"
    }
   ],
   "source": [
    "q3.solution()"
   ]
  },
  {
   "cell_type": "markdown",
   "id": "631c1bd4",
   "metadata": {
    "papermill": {
     "duration": 0.030726,
     "end_time": "2022-02-01T03:43:22.304056",
     "exception": false,
     "start_time": "2022-02-01T03:43:22.273330",
     "status": "completed"
    },
    "tags": []
   },
   "source": [
    "# Keep Going\n",
    "\n",
    "You've learned a lot. But even the best programmers rely heavily on \"libraries\" of code from other programmers. You'll learn about that in **[the last lesson](https://www.kaggle.com/colinmorris/working-with-external-libraries)**.\n"
   ]
  },
  {
   "cell_type": "markdown",
   "id": "da2254e1",
   "metadata": {
    "papermill": {
     "duration": 0.023159,
     "end_time": "2022-02-01T03:43:22.350977",
     "exception": false,
     "start_time": "2022-02-01T03:43:22.327818",
     "status": "completed"
    },
    "tags": []
   },
   "source": [
    "---\n",
    "\n",
    "\n",
    "\n",
    "\n",
    "*Have questions or comments? Visit the [course discussion forum](https://www.kaggle.com/learn/python/discussion) to chat with other learners.*"
   ]
  }
 ],
 "metadata": {
  "kernelspec": {
   "display_name": "Python 3",
   "language": "python",
   "name": "python3"
  },
  "language_info": {
   "codemirror_mode": {
    "name": "ipython",
    "version": 3
   },
   "file_extension": ".py",
   "mimetype": "text/x-python",
   "name": "python",
   "nbconvert_exporter": "python",
   "pygments_lexer": "ipython3",
   "version": "3.7.12"
  },
  "papermill": {
   "default_parameters": {},
   "duration": 10.679719,
   "end_time": "2022-02-01T03:43:22.985281",
   "environment_variables": {},
   "exception": null,
   "input_path": "__notebook__.ipynb",
   "output_path": "__notebook__.ipynb",
   "parameters": {},
   "start_time": "2022-02-01T03:43:12.305562",
   "version": "2.3.3"
  }
 },
 "nbformat": 4,
 "nbformat_minor": 5
}
